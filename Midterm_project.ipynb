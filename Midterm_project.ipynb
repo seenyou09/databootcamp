{
 "cells": [
  {
   "cell_type": "markdown",
   "id": "4eb66d73-289a-4ae3-9405-fc2aa30400c4",
   "metadata": {},
   "source": [
    "# MIDTERM PROJECT \n",
    "## SEAN YOO iy391 \n",
    "## Victor Lu vl1189"
   ]
  },
  {
   "cell_type": "code",
   "execution_count": 1,
   "id": "bb270fce-0e1c-45e6-8252-dccf17dd1e0d",
   "metadata": {},
   "outputs": [],
   "source": [
    "import pandas as pd\n",
    "import numpy as np\n",
    "import os\n",
    "import plotnine\n",
    "from plotnine import *\n",
    "%matplotlib inline"
   ]
  },
  {
   "cell_type": "code",
   "execution_count": 2,
   "id": "77203a48",
   "metadata": {},
   "outputs": [
    {
     "data": {
      "text/html": [
       "<div>\n",
       "<style scoped>\n",
       "    .dataframe tbody tr th:only-of-type {\n",
       "        vertical-align: middle;\n",
       "    }\n",
       "\n",
       "    .dataframe tbody tr th {\n",
       "        vertical-align: top;\n",
       "    }\n",
       "\n",
       "    .dataframe thead th {\n",
       "        text-align: right;\n",
       "    }\n",
       "</style>\n",
       "<table border=\"1\" class=\"dataframe\">\n",
       "  <thead>\n",
       "    <tr style=\"text-align: right;\">\n",
       "      <th></th>\n",
       "      <th>S.no</th>\n",
       "      <th>Name</th>\n",
       "      <th>Nationality</th>\n",
       "      <th>Current rank</th>\n",
       "      <th>Previous year rank</th>\n",
       "      <th>Sport</th>\n",
       "      <th>Year</th>\n",
       "      <th>Earnings ($ million)</th>\n",
       "    </tr>\n",
       "  </thead>\n",
       "  <tbody>\n",
       "    <tr>\n",
       "      <th>0</th>\n",
       "      <td>1</td>\n",
       "      <td>Mike Tyson</td>\n",
       "      <td>USA</td>\n",
       "      <td>1</td>\n",
       "      <td>NaN</td>\n",
       "      <td>boxing</td>\n",
       "      <td>1990</td>\n",
       "      <td>28.6</td>\n",
       "    </tr>\n",
       "    <tr>\n",
       "      <th>1</th>\n",
       "      <td>2</td>\n",
       "      <td>Buster Douglas</td>\n",
       "      <td>USA</td>\n",
       "      <td>2</td>\n",
       "      <td>NaN</td>\n",
       "      <td>boxing</td>\n",
       "      <td>1990</td>\n",
       "      <td>26.0</td>\n",
       "    </tr>\n",
       "    <tr>\n",
       "      <th>2</th>\n",
       "      <td>3</td>\n",
       "      <td>Sugar Ray Leonard</td>\n",
       "      <td>USA</td>\n",
       "      <td>3</td>\n",
       "      <td>NaN</td>\n",
       "      <td>boxing</td>\n",
       "      <td>1990</td>\n",
       "      <td>13.0</td>\n",
       "    </tr>\n",
       "    <tr>\n",
       "      <th>3</th>\n",
       "      <td>4</td>\n",
       "      <td>Ayrton Senna</td>\n",
       "      <td>Brazil</td>\n",
       "      <td>4</td>\n",
       "      <td>NaN</td>\n",
       "      <td>auto racing</td>\n",
       "      <td>1990</td>\n",
       "      <td>10.0</td>\n",
       "    </tr>\n",
       "    <tr>\n",
       "      <th>4</th>\n",
       "      <td>5</td>\n",
       "      <td>Alain Prost</td>\n",
       "      <td>France</td>\n",
       "      <td>5</td>\n",
       "      <td>NaN</td>\n",
       "      <td>auto racing</td>\n",
       "      <td>1990</td>\n",
       "      <td>9.0</td>\n",
       "    </tr>\n",
       "  </tbody>\n",
       "</table>\n",
       "</div>"
      ],
      "text/plain": [
       "   S.no               Name Nationality  Current rank Previous year rank  \\\n",
       "0     1         Mike Tyson         USA             1                NaN   \n",
       "1     2     Buster Douglas         USA             2                NaN   \n",
       "2     3  Sugar Ray Leonard         USA             3                NaN   \n",
       "3     4       Ayrton Senna      Brazil             4                NaN   \n",
       "4     5        Alain Prost      France             5                NaN   \n",
       "\n",
       "         Sport  Year  Earnings ($ million)  \n",
       "0       boxing  1990                  28.6  \n",
       "1       boxing  1990                  26.0  \n",
       "2       boxing  1990                  13.0  \n",
       "3  auto racing  1990                  10.0  \n",
       "4  auto racing  1990                   9.0  "
      ]
     },
     "execution_count": 2,
     "metadata": {},
     "output_type": "execute_result"
    }
   ],
   "source": [
    "url= \"/Users/seanyoo/Desktop/fba_dataset.csv\"\n",
    "df = pd.read_csv(url)\n",
    "df.columns = [var.capitalize() for var in df.columns]\n",
    "df.head()"
   ]
  },
  {
   "cell_type": "markdown",
   "id": "941684b1-3405-4250-9bae-ffcf2effb56a",
   "metadata": {},
   "source": [
    "### Comments \n",
    "- We capitalized the column names so it would be easier for us to recall the columns"
   ]
  },
  {
   "cell_type": "code",
   "execution_count": 3,
   "id": "c867dbc4-0ad4-4f72-913e-8b4bfa8f3f87",
   "metadata": {},
   "outputs": [
    {
     "name": "stdout",
     "output_type": "stream",
     "text": [
      "<class 'pandas.core.frame.DataFrame'>\n",
      "RangeIndex: 301 entries, 0 to 300\n",
      "Data columns (total 8 columns):\n",
      " #   Column                Non-Null Count  Dtype  \n",
      "---  ------                --------------  -----  \n",
      " 0   S.no                  301 non-null    int64  \n",
      " 1   Name                  301 non-null    object \n",
      " 2   Nationality           301 non-null    object \n",
      " 3   Current rank          301 non-null    int64  \n",
      " 4   Previous year rank    277 non-null    object \n",
      " 5   Sport                 301 non-null    object \n",
      " 6   Year                  301 non-null    int64  \n",
      " 7   Earnings ($ million)  301 non-null    float64\n",
      "dtypes: float64(1), int64(3), object(4)\n",
      "memory usage: 18.9+ KB\n"
     ]
    }
   ],
   "source": [
    "df.info()"
   ]
  },
  {
   "cell_type": "code",
   "execution_count": 4,
   "id": "5ba7b2ea",
   "metadata": {},
   "outputs": [
    {
     "data": {
      "text/plain": [
       "array(['boxing', 'auto racing', 'golf', 'basketball', 'Basketball',\n",
       "       'Boxing', 'Auto Racing', 'Golf', 'Tennis', 'NFL', 'Auto racing',\n",
       "       'NBA', 'Baseball', 'Ice Hockey', 'American Football / Baseball',\n",
       "       'tennis', 'ice hockey', 'F1 Motorsports', 'NASCAR', 'Hockey',\n",
       "       'Auto Racing (Nascar)', 'F1 racing', 'American Football', 'soccer',\n",
       "       'baseball', 'cycling', 'motorcycle gp', 'Soccer', 'MMA'],\n",
       "      dtype=object)"
      ]
     },
     "execution_count": 4,
     "metadata": {},
     "output_type": "execute_result"
    }
   ],
   "source": [
    "df[\"Sport\"].unique()"
   ]
  },
  {
   "cell_type": "code",
   "execution_count": 5,
   "id": "9ea476c9-6ca2-4419-9967-1da337b70f54",
   "metadata": {},
   "outputs": [
    {
     "data": {
      "text/plain": [
       "array(['BOXING', 'AUTO RACING', 'GOLF', 'BASKETBALL', 'TENNIS', 'NFL',\n",
       "       'NBA', 'BASEBALL', 'ICE HOCKEY', 'AMERICAN FOOTBALL / BASEBALL',\n",
       "       'F1 MOTORSPORTS', 'NASCAR', 'HOCKEY', 'AUTO RACING (NASCAR)',\n",
       "       'F1 RACING', 'AMERICAN FOOTBALL', 'SOCCER', 'CYCLING',\n",
       "       'MOTORCYCLE GP', 'MMA'], dtype=object)"
      ]
     },
     "execution_count": 5,
     "metadata": {},
     "output_type": "execute_result"
    }
   ],
   "source": [
    "df[\"Sport\"] = df[\"Sport\"].str.upper()\n",
    "df[\"Sport\"].unique()"
   ]
  },
  {
   "cell_type": "markdown",
   "id": "e0b931a8-0f06-440a-ae90-5e248ca75ac7",
   "metadata": {},
   "source": [
    "### Comment \n",
    "- We realized that some of the sport names were lowercased while others were uppercased. Therefore, we decided to put all the sports into uppercase, so we know it is the same categories"
   ]
  },
  {
   "cell_type": "code",
   "execution_count": 6,
   "id": "c816d2ba-46c1-4453-83bf-f917e26bc346",
   "metadata": {},
   "outputs": [
    {
     "data": {
      "text/plain": [
       "array([1990, 1991, 1992, 1993, 1994, 1995, 1996, 1997, 1998, 1999, 2000,\n",
       "       2002, 2003, 2004, 2005, 2006, 2007, 2008, 2009, 2010, 2011, 2012,\n",
       "       2013, 2014, 2015, 2016, 2017, 2018, 2019, 2020])"
      ]
     },
     "execution_count": 6,
     "metadata": {},
     "output_type": "execute_result"
    }
   ],
   "source": [
    "df[\"Year\"].unique()"
   ]
  },
  {
   "cell_type": "markdown",
   "id": "424376eb-f4f6-4f19-9e73-90bccd6e201d",
   "metadata": {},
   "source": [
    "### Comment\n",
    "- We realized that our dataset was missing the year 2001"
   ]
  },
  {
   "cell_type": "code",
   "execution_count": 7,
   "id": "1d981ccf-8e75-4ce1-8b39-fd0be2f46ca0",
   "metadata": {},
   "outputs": [],
   "source": [
    "df[\"Name\"].unique()\n",
    "df[\"Name\"] = df[\"Name\"].replace(\"Shaquille O'Neal\", \"Shaq O'Neal\")"
   ]
  },
  {
   "cell_type": "markdown",
   "id": "ecd53ab5-a0e3-4c09-abfa-55ff0c6331d4",
   "metadata": {},
   "source": [
    "### Comment\n",
    "- Shaquille O'Neal and Shaq are the same player, so we made them both Shaq. "
   ]
  },
  {
   "cell_type": "markdown",
   "id": "746ec4a3-54b2-41f5-b15c-3921a6f02301",
   "metadata": {},
   "source": [
    "### SECTION A: "
   ]
  },
  {
   "cell_type": "markdown",
   "id": "e8c7e345-c428-4a4e-8d28-db452e821e90",
   "metadata": {},
   "source": [
    "#### Top paid athlete from 1990 to 2000 and 2002 to 2020. We would grou each of the athlete by \"Name\" and and then sun their earning throughout the years"
   ]
  },
  {
   "cell_type": "code",
   "execution_count": 8,
   "id": "b3cd2b72-b8c9-497f-a9ba-7389afb6b982",
   "metadata": {},
   "outputs": [],
   "source": [
    "df[\"Earnings ($ million)\"] = df[\"Earnings ($ million)\"].astype(float)\n",
    "h_paid_df = df.groupby([\"Name\"]).sum().reset_index()"
   ]
  },
  {
   "cell_type": "code",
   "execution_count": 9,
   "id": "9d8ed4c0-6aa1-4b05-856f-fe7e218fcbcf",
   "metadata": {},
   "outputs": [
    {
     "data": {
      "text/html": [
       "<div>\n",
       "<style scoped>\n",
       "    .dataframe tbody tr th:only-of-type {\n",
       "        vertical-align: middle;\n",
       "    }\n",
       "\n",
       "    .dataframe tbody tr th {\n",
       "        vertical-align: top;\n",
       "    }\n",
       "\n",
       "    .dataframe thead th {\n",
       "        text-align: right;\n",
       "    }\n",
       "</style>\n",
       "<table border=\"1\" class=\"dataframe\">\n",
       "  <thead>\n",
       "    <tr style=\"text-align: right;\">\n",
       "      <th></th>\n",
       "      <th>Name</th>\n",
       "      <th>Earnings ($ million)</th>\n",
       "    </tr>\n",
       "  </thead>\n",
       "  <tbody>\n",
       "    <tr>\n",
       "      <th>77</th>\n",
       "      <td>Tiger Woods</td>\n",
       "      <td>1373.8</td>\n",
       "    </tr>\n",
       "    <tr>\n",
       "      <th>45</th>\n",
       "      <td>LeBron James</td>\n",
       "      <td>844.8</td>\n",
       "    </tr>\n",
       "    <tr>\n",
       "      <th>25</th>\n",
       "      <td>Floyd Mayweather</td>\n",
       "      <td>840.0</td>\n",
       "    </tr>\n",
       "    <tr>\n",
       "      <th>14</th>\n",
       "      <td>Cristiano Ronaldo</td>\n",
       "      <td>787.1</td>\n",
       "    </tr>\n",
       "    <tr>\n",
       "      <th>68</th>\n",
       "      <td>Roger Federer</td>\n",
       "      <td>781.1</td>\n",
       "    </tr>\n",
       "    <tr>\n",
       "      <th>52</th>\n",
       "      <td>Michael Jordan</td>\n",
       "      <td>738.8</td>\n",
       "    </tr>\n",
       "    <tr>\n",
       "      <th>48</th>\n",
       "      <td>Lionel Messi</td>\n",
       "      <td>715.5</td>\n",
       "    </tr>\n",
       "    <tr>\n",
       "      <th>54</th>\n",
       "      <td>Michael Schumacher</td>\n",
       "      <td>639.0</td>\n",
       "    </tr>\n",
       "    <tr>\n",
       "      <th>43</th>\n",
       "      <td>Kobe Bryant</td>\n",
       "      <td>601.1</td>\n",
       "    </tr>\n",
       "    <tr>\n",
       "      <th>65</th>\n",
       "      <td>Phil Mickelson</td>\n",
       "      <td>519.9</td>\n",
       "    </tr>\n",
       "  </tbody>\n",
       "</table>\n",
       "</div>"
      ],
      "text/plain": [
       "                  Name  Earnings ($ million)\n",
       "77         Tiger Woods                1373.8\n",
       "45        LeBron James                 844.8\n",
       "25    Floyd Mayweather                 840.0\n",
       "14   Cristiano Ronaldo                 787.1\n",
       "68       Roger Federer                 781.1\n",
       "52      Michael Jordan                 738.8\n",
       "48        Lionel Messi                 715.5\n",
       "54  Michael Schumacher                 639.0\n",
       "43         Kobe Bryant                 601.1\n",
       "65      Phil Mickelson                 519.9"
      ]
     },
     "execution_count": 9,
     "metadata": {},
     "output_type": "execute_result"
    }
   ],
   "source": [
    "h_paid_df = h_paid_df .sort_values(by=['Earnings ($ million)'], ascending= False)\n",
    "h_paid_df[[\"Name\", \"Earnings ($ million)\"]].head(10)"
   ]
  },
  {
   "cell_type": "code",
   "execution_count": 10,
   "id": "53b17d0b-20ac-4707-bbc5-eacc0616a1ca",
   "metadata": {},
   "outputs": [
    {
     "data": {
      "image/png": "[encoded data removed]",
      "text/plain": [
       "<Figure size 640x480 with 1 Axes>"
      ]
     },
     "metadata": {},
     "output_type": "display_data"
    },
    {
     "data": {
      "text/plain": [
       "<ggplot: (8791208038952)>"
      ]
     },
     "execution_count": 10,
     "metadata": {},
     "output_type": "execute_result"
    }
   ],
   "source": [
    "(ggplot(data=h_paid_df.iloc[0:10,], mapping=aes(x='Name', y='Earnings ($ million)'))+\n",
    "geom_bar(stat='identity',fill= \"purple\") + coord_flip() +\n",
    "xlab(\"Athlete\")+\n",
    "ylab(\"Earning (million)\")+\n",
    "ggtitle(\"Top 10 Paid Athletes from 1990 to 2010\") + \n",
    "theme_bw()\n",
    ")"
   ]
  },
  {
   "cell_type": "markdown",
   "id": "4ad21c10-1764-4e52-8c6e-f32f4390c47e",
   "metadata": {},
   "source": [
    "Analysis: We have a bar graph to visualize which athlete throughout 1990 to 2010 earned the most amount of money. The bar graph allows us to compare how Tiger Woods earned way more than his closest competitor, Lebron James. "
   ]
  },
  {
   "cell_type": "markdown",
   "id": "c81ded85-93fe-4a9f-8e09-63e9b5c6b9db",
   "metadata": {},
   "source": [
    "### Section B: "
   ]
  },
  {
   "cell_type": "markdown",
   "id": "86851cf9-ed2f-49f0-9870-12f86f76fc36",
   "metadata": {},
   "source": [
    "#### Who were the top 10 highest paid athlete for basketball from year 1990 to 2020. We realized that the Top 20 paid players were all basketball players, so we ranked them only among basketball players."
   ]
  },
  {
   "cell_type": "code",
   "execution_count": 11,
   "id": "4da96a57-28f3-4a42-a6ed-3218e6779eb5",
   "metadata": {},
   "outputs": [
    {
     "name": "stderr",
     "output_type": "stream",
     "text": [
      "/var/folders/ng/44x5jng1501210_z7y7z7rrh0000gn/T/ipykernel_17382/3471131241.py:2: SettingWithCopyWarning: \n",
      "A value is trying to be set on a copy of a slice from a DataFrame.\n",
      "Try using .loc[row_indexer,col_indexer] = value instead\n",
      "\n",
      "See the caveats in the documentation: https://pandas.pydata.org/pandas-docs/stable/user_guide/indexing.html#returning-a-view-versus-a-copy\n"
     ]
    },
    {
     "data": {
      "text/html": [
       "<div>\n",
       "<style scoped>\n",
       "    .dataframe tbody tr th:only-of-type {\n",
       "        vertical-align: middle;\n",
       "    }\n",
       "\n",
       "    .dataframe tbody tr th {\n",
       "        vertical-align: top;\n",
       "    }\n",
       "\n",
       "    .dataframe thead th {\n",
       "        text-align: right;\n",
       "    }\n",
       "</style>\n",
       "<table border=\"1\" class=\"dataframe\">\n",
       "  <thead>\n",
       "    <tr style=\"text-align: right;\">\n",
       "      <th></th>\n",
       "      <th>Name</th>\n",
       "      <th>Earnings ($ million)</th>\n",
       "    </tr>\n",
       "  </thead>\n",
       "  <tbody>\n",
       "    <tr>\n",
       "      <th>6</th>\n",
       "      <td>LeBron James</td>\n",
       "      <td>844.8</td>\n",
       "    </tr>\n",
       "    <tr>\n",
       "      <th>7</th>\n",
       "      <td>Michael Jordan</td>\n",
       "      <td>738.8</td>\n",
       "    </tr>\n",
       "    <tr>\n",
       "      <th>5</th>\n",
       "      <td>Kobe Bryant</td>\n",
       "      <td>601.1</td>\n",
       "    </tr>\n",
       "    <tr>\n",
       "      <th>9</th>\n",
       "      <td>Shaq O'Neal</td>\n",
       "      <td>325.2</td>\n",
       "    </tr>\n",
       "    <tr>\n",
       "      <th>3</th>\n",
       "      <td>Kevin Durant</td>\n",
       "      <td>300.3</td>\n",
       "    </tr>\n",
       "    <tr>\n",
       "      <th>10</th>\n",
       "      <td>Stephen Curry</td>\n",
       "      <td>278.4</td>\n",
       "    </tr>\n",
       "    <tr>\n",
       "      <th>1</th>\n",
       "      <td>Grant Hill</td>\n",
       "      <td>137.1</td>\n",
       "    </tr>\n",
       "    <tr>\n",
       "      <th>4</th>\n",
       "      <td>Kevin Garnett</td>\n",
       "      <td>101.7</td>\n",
       "    </tr>\n",
       "    <tr>\n",
       "      <th>2</th>\n",
       "      <td>James Harden</td>\n",
       "      <td>46.6</td>\n",
       "    </tr>\n",
       "    <tr>\n",
       "      <th>8</th>\n",
       "      <td>Patrick Ewing</td>\n",
       "      <td>31.2</td>\n",
       "    </tr>\n",
       "  </tbody>\n",
       "</table>\n",
       "</div>"
      ],
      "text/plain": [
       "              Name  Earnings ($ million)\n",
       "6     LeBron James                 844.8\n",
       "7   Michael Jordan                 738.8\n",
       "5      Kobe Bryant                 601.1\n",
       "9      Shaq O'Neal                 325.2\n",
       "3     Kevin Durant                 300.3\n",
       "10   Stephen Curry                 278.4\n",
       "1       Grant Hill                 137.1\n",
       "4    Kevin Garnett                 101.7\n",
       "2     James Harden                  46.6\n",
       "8    Patrick Ewing                  31.2"
      ]
     },
     "execution_count": 11,
     "metadata": {},
     "output_type": "execute_result"
    }
   ],
   "source": [
    "df_basket = df.loc[(df[\"Sport\"] == \"BASKETBALL\")]\n",
    "df_basket[\"Earnings ($ million)\"] = df_basket[\"Earnings ($ million)\"].astype(float)\n",
    "df_basket= df_basket.groupby([\"Name\"]).sum().reset_index()\n",
    "df_basket = df_basket .sort_values(by=['Earnings ($ million)'], ascending= False)\n",
    "df_basket[[\"Name\", \"Earnings ($ million)\"]].head(10)"
   ]
  },
  {
   "cell_type": "code",
   "execution_count": 12,
   "id": "cd4b421a-3e05-44f7-8929-4f8329a157dc",
   "metadata": {},
   "outputs": [
    {
     "data": {
      "image/png": "[encoded data removed]",
      "text/plain": [
       "<Figure size 640x480 with 1 Axes>"
      ]
     },
     "metadata": {},
     "output_type": "display_data"
    },
    {
     "data": {
      "text/plain": [
       "<ggplot: (8791208133485)>"
      ]
     },
     "execution_count": 12,
     "metadata": {},
     "output_type": "execute_result"
    }
   ],
   "source": [
    "(ggplot(data=df_basket.iloc[0:10,], mapping=aes(x='Name', y='Earnings ($ million)'))+\n",
    "geom_bar(stat='identity',fill='blue') + coord_flip() +\n",
    "xlab(\"Athlete\")+\n",
    "ylab(\"Earning (million)\")+\n",
    "ggtitle(\"Top 10 Paid Athletes from 1990 to 2010\") + \n",
    "theme_bw()\n",
    ")"
   ]
  },
  {
   "cell_type": "markdown",
   "id": "3c9e1470-3201-439f-a326-71922cec8835",
   "metadata": {},
   "source": [
    "Analysis: Similiar to the previous question, we grouped the athlete by name, and added up their salaries throughout the years. We had to filter the data in the begninning, so that we would only compare basektball players. "
   ]
  },
  {
   "cell_type": "markdown",
   "id": "5058be96-fc0c-4014-84a0-bb30b8fa9d42",
   "metadata": {},
   "source": [
    "### Section C: "
   ]
  },
  {
   "cell_type": "markdown",
   "id": "a4d6879a-2bdf-4455-bd2c-6f33d009de46",
   "metadata": {},
   "source": [
    "#### Who was ranked number one the most frequently from year 1990 to year 2020. We want to count how many times an athlete was ranked number one paid player for each year from 1990 to 2020."
   ]
  },
  {
   "cell_type": "code",
   "execution_count": 13,
   "id": "7aa5fc14-f2cb-44ad-a6bb-bb3728b8b815",
   "metadata": {},
   "outputs": [
    {
     "data": {
      "text/html": [
       "<div>\n",
       "<style scoped>\n",
       "    .dataframe tbody tr th:only-of-type {\n",
       "        vertical-align: middle;\n",
       "    }\n",
       "\n",
       "    .dataframe tbody tr th {\n",
       "        vertical-align: top;\n",
       "    }\n",
       "\n",
       "    .dataframe thead th {\n",
       "        text-align: right;\n",
       "    }\n",
       "</style>\n",
       "<table border=\"1\" class=\"dataframe\">\n",
       "  <thead>\n",
       "    <tr style=\"text-align: right;\">\n",
       "      <th></th>\n",
       "      <th>Name</th>\n",
       "      <th>Rank_one</th>\n",
       "    </tr>\n",
       "  </thead>\n",
       "  <tbody>\n",
       "    <tr>\n",
       "      <th>8</th>\n",
       "      <td>Tiger Woods</td>\n",
       "      <td>11</td>\n",
       "    </tr>\n",
       "    <tr>\n",
       "      <th>4</th>\n",
       "      <td>Michael Jordan</td>\n",
       "      <td>6</td>\n",
       "    </tr>\n",
       "    <tr>\n",
       "      <th>2</th>\n",
       "      <td>Floyd Mayweather</td>\n",
       "      <td>4</td>\n",
       "    </tr>\n",
       "    <tr>\n",
       "      <th>0</th>\n",
       "      <td>Cristiano Ronaldo</td>\n",
       "      <td>2</td>\n",
       "    </tr>\n",
       "    <tr>\n",
       "      <th>5</th>\n",
       "      <td>Michael Schumacher</td>\n",
       "      <td>2</td>\n",
       "    </tr>\n",
       "    <tr>\n",
       "      <th>6</th>\n",
       "      <td>Mike Tyson</td>\n",
       "      <td>2</td>\n",
       "    </tr>\n",
       "    <tr>\n",
       "      <th>1</th>\n",
       "      <td>Evander Holyfield</td>\n",
       "      <td>1</td>\n",
       "    </tr>\n",
       "    <tr>\n",
       "      <th>3</th>\n",
       "      <td>Lionel Messi</td>\n",
       "      <td>1</td>\n",
       "    </tr>\n",
       "    <tr>\n",
       "      <th>7</th>\n",
       "      <td>Roger Federer</td>\n",
       "      <td>1</td>\n",
       "    </tr>\n",
       "  </tbody>\n",
       "</table>\n",
       "</div>"
      ],
      "text/plain": [
       "                 Name  Rank_one\n",
       "8         Tiger Woods        11\n",
       "4      Michael Jordan         6\n",
       "2    Floyd Mayweather         4\n",
       "0   Cristiano Ronaldo         2\n",
       "5  Michael Schumacher         2\n",
       "6          Mike Tyson         2\n",
       "1   Evander Holyfield         1\n",
       "3        Lionel Messi         1\n",
       "7       Roger Federer         1"
      ]
     },
     "execution_count": 13,
     "metadata": {},
     "output_type": "execute_result"
    }
   ],
   "source": [
    "df.loc[df[\"Current rank\"] ==1, \"rank_one\"] = \"yes\"\n",
    "df.loc[df[\"Current rank\"] !=1, \"rank_one\"] = \"no\"\n",
    "df_items = df.loc[df[\"rank_one\"].str.contains(\"yes\")]\n",
    "rank = pd.DataFrame(df_items.groupby(\"Name\")[\"rank_one\"].count())\n",
    "rank = rank.rename_axis(\"name\").reset_index()\n",
    "rank.columns = [var.capitalize() for var in rank.columns]\n",
    "rank = rank .sort_values(by=[\"Rank_one\"], ascending= False)\n",
    "rank[[\"Name\", \"Rank_one\"]].head(10)"
   ]
  },
  {
   "cell_type": "code",
   "execution_count": 14,
   "id": "e160445d-f78d-4bc0-93b1-c9cee4f7ca02",
   "metadata": {},
   "outputs": [
    {
     "data": {
      "image/png": "[encoded data removed]",
      "text/plain": [
       "<Figure size 640x480 with 1 Axes>"
      ]
     },
     "metadata": {},
     "output_type": "display_data"
    },
    {
     "data": {
      "text/plain": [
       "<ggplot: (8791208240186)>"
      ]
     },
     "execution_count": 14,
     "metadata": {},
     "output_type": "execute_result"
    }
   ],
   "source": [
    "(ggplot(data=rank, mapping=aes(x=\"Name\", y=\"Rank_one\"))+\n",
    "geom_bar(stat='identity',fill='black') + coord_flip() +\n",
    "xlab(\"Athlete\")+\n",
    "ylab(\"# of Times Ranked One\")+\n",
    "ggtitle(\"Most number One from 1990 to 2010\") + \n",
    "theme_bw()\n",
    ")"
   ]
  },
  {
   "cell_type": "markdown",
   "id": "51758e8f-97bd-44de-a809-507e18159418",
   "metadata": {},
   "source": [
    "Analysis: We decided to make a new column named rank_one, and then we would assign \"yes\" if the player was ranked one. Then we would group each athlete and count how many times they got rank one. Also, the new dataframe didn't read the column name, so we restarted it and named it again. "
   ]
  },
  {
   "cell_type": "markdown",
   "id": "4d12fa82-1c9f-48e1-a156-6d15f229239e",
   "metadata": {},
   "source": [
    "# Section D "
   ]
  },
  {
   "cell_type": "markdown",
   "id": "64c63519-d70c-41c4-a696-114b4fc249e2",
   "metadata": {},
   "source": [
    "Compare the growth rate of the top 10 earners to inflation rates to see the impact inflation plays on earnings."
   ]
  },
  {
   "cell_type": "code",
   "execution_count": 15,
   "id": "7eeca1cd-1452-433c-8102-59f3b33ff80e",
   "metadata": {},
   "outputs": [
    {
     "data": {
      "text/html": [
       "<div>\n",
       "<style scoped>\n",
       "    .dataframe tbody tr th:only-of-type {\n",
       "        vertical-align: middle;\n",
       "    }\n",
       "\n",
       "    .dataframe tbody tr th {\n",
       "        vertical-align: top;\n",
       "    }\n",
       "\n",
       "    .dataframe thead th {\n",
       "        text-align: right;\n",
       "    }\n",
       "</style>\n",
       "<table border=\"1\" class=\"dataframe\">\n",
       "  <thead>\n",
       "    <tr style=\"text-align: right;\">\n",
       "      <th></th>\n",
       "      <th>S.no</th>\n",
       "      <th>Current rank</th>\n",
       "      <th>Earnings ($ million)</th>\n",
       "    </tr>\n",
       "    <tr>\n",
       "      <th>Year</th>\n",
       "      <th></th>\n",
       "      <th></th>\n",
       "      <th></th>\n",
       "    </tr>\n",
       "  </thead>\n",
       "  <tbody>\n",
       "    <tr>\n",
       "      <th>1990</th>\n",
       "      <td>55</td>\n",
       "      <td>52</td>\n",
       "      <td>128.0</td>\n",
       "    </tr>\n",
       "    <tr>\n",
       "      <th>1991</th>\n",
       "      <td>155</td>\n",
       "      <td>55</td>\n",
       "      <td>183.5</td>\n",
       "    </tr>\n",
       "    <tr>\n",
       "      <th>1992</th>\n",
       "      <td>255</td>\n",
       "      <td>55</td>\n",
       "      <td>158.7</td>\n",
       "    </tr>\n",
       "    <tr>\n",
       "      <th>1993</th>\n",
       "      <td>355</td>\n",
       "      <td>55</td>\n",
       "      <td>178.3</td>\n",
       "    </tr>\n",
       "    <tr>\n",
       "      <th>1994</th>\n",
       "      <td>455</td>\n",
       "      <td>54</td>\n",
       "      <td>148.9</td>\n",
       "    </tr>\n",
       "  </tbody>\n",
       "</table>\n",
       "</div>"
      ],
      "text/plain": [
       "      S.no  Current rank  Earnings ($ million)\n",
       "Year                                          \n",
       "1990    55            52                 128.0\n",
       "1991   155            55                 183.5\n",
       "1992   255            55                 158.7\n",
       "1993   355            55                 178.3\n",
       "1994   455            54                 148.9"
      ]
     },
     "execution_count": 15,
     "metadata": {},
     "output_type": "execute_result"
    }
   ],
   "source": [
    "df2 = df.groupby(['Year']).sum().groupby(level=0).max()\n",
    "df2.head()"
   ]
  },
  {
   "cell_type": "code",
   "execution_count": 16,
   "id": "645b7ffa-42af-4632-8b31-7ccf5a3e140d",
   "metadata": {},
   "outputs": [
    {
     "data": {
      "text/html": [
       "<div>\n",
       "<style scoped>\n",
       "    .dataframe tbody tr th:only-of-type {\n",
       "        vertical-align: middle;\n",
       "    }\n",
       "\n",
       "    .dataframe tbody tr th {\n",
       "        vertical-align: top;\n",
       "    }\n",
       "\n",
       "    .dataframe thead th {\n",
       "        text-align: right;\n",
       "    }\n",
       "</style>\n",
       "<table border=\"1\" class=\"dataframe\">\n",
       "  <thead>\n",
       "    <tr style=\"text-align: right;\">\n",
       "      <th></th>\n",
       "      <th>Earnings ($ million)</th>\n",
       "    </tr>\n",
       "    <tr>\n",
       "      <th>Year</th>\n",
       "      <th></th>\n",
       "    </tr>\n",
       "  </thead>\n",
       "  <tbody>\n",
       "    <tr>\n",
       "      <th>1990</th>\n",
       "      <td>128.0</td>\n",
       "    </tr>\n",
       "    <tr>\n",
       "      <th>1991</th>\n",
       "      <td>183.5</td>\n",
       "    </tr>\n",
       "    <tr>\n",
       "      <th>1992</th>\n",
       "      <td>158.7</td>\n",
       "    </tr>\n",
       "    <tr>\n",
       "      <th>1993</th>\n",
       "      <td>178.3</td>\n",
       "    </tr>\n",
       "    <tr>\n",
       "      <th>1994</th>\n",
       "      <td>148.9</td>\n",
       "    </tr>\n",
       "  </tbody>\n",
       "</table>\n",
       "</div>"
      ],
      "text/plain": [
       "      Earnings ($ million)\n",
       "Year                      \n",
       "1990                 128.0\n",
       "1991                 183.5\n",
       "1992                 158.7\n",
       "1993                 178.3\n",
       "1994                 148.9"
      ]
     },
     "execution_count": 16,
     "metadata": {},
     "output_type": "execute_result"
    }
   ],
   "source": [
    "Earnings_year = df2.drop(columns=['S.no', 'Current rank'])\n",
    "Earnings_year.head()"
   ]
  },
  {
   "cell_type": "code",
   "execution_count": 17,
   "id": "8c5e1641-0fde-4eb9-99f7-364ec6316858",
   "metadata": {},
   "outputs": [
    {
     "data": {
      "text/html": [
       "<div>\n",
       "<style scoped>\n",
       "    .dataframe tbody tr th:only-of-type {\n",
       "        vertical-align: middle;\n",
       "    }\n",
       "\n",
       "    .dataframe tbody tr th {\n",
       "        vertical-align: top;\n",
       "    }\n",
       "\n",
       "    .dataframe thead th {\n",
       "        text-align: right;\n",
       "    }\n",
       "</style>\n",
       "<table border=\"1\" class=\"dataframe\">\n",
       "  <thead>\n",
       "    <tr style=\"text-align: right;\">\n",
       "      <th></th>\n",
       "      <th>Change in Earnings</th>\n",
       "      <th>Year</th>\n",
       "      <th>Inflation</th>\n",
       "    </tr>\n",
       "    <tr>\n",
       "      <th>Year</th>\n",
       "      <th></th>\n",
       "      <th></th>\n",
       "      <th></th>\n",
       "    </tr>\n",
       "  </thead>\n",
       "  <tbody>\n",
       "    <tr>\n",
       "      <th>1990</th>\n",
       "      <td>NaN</td>\n",
       "      <td>1990</td>\n",
       "      <td>0.0540</td>\n",
       "    </tr>\n",
       "    <tr>\n",
       "      <th>1991</th>\n",
       "      <td>0.433594</td>\n",
       "      <td>1991</td>\n",
       "      <td>0.0424</td>\n",
       "    </tr>\n",
       "    <tr>\n",
       "      <th>1992</th>\n",
       "      <td>-0.135150</td>\n",
       "      <td>1992</td>\n",
       "      <td>0.0303</td>\n",
       "    </tr>\n",
       "    <tr>\n",
       "      <th>1993</th>\n",
       "      <td>0.123503</td>\n",
       "      <td>1993</td>\n",
       "      <td>0.0295</td>\n",
       "    </tr>\n",
       "    <tr>\n",
       "      <th>1994</th>\n",
       "      <td>-0.164891</td>\n",
       "      <td>1994</td>\n",
       "      <td>0.0261</td>\n",
       "    </tr>\n",
       "  </tbody>\n",
       "</table>\n",
       "</div>"
      ],
      "text/plain": [
       "      Change in Earnings  Year  Inflation\n",
       "Year                                     \n",
       "1990                 NaN  1990     0.0540\n",
       "1991            0.433594  1991     0.0424\n",
       "1992           -0.135150  1992     0.0303\n",
       "1993            0.123503  1993     0.0295\n",
       "1994           -0.164891  1994     0.0261"
      ]
     },
     "execution_count": 17,
     "metadata": {},
     "output_type": "execute_result"
    }
   ],
   "source": [
    "PCT = Earnings_year.pct_change()\n",
    "Years = ['1990','1991','1992','1993','1994','1995','1996','1997','1998','1999','2000','2002','2003','2004','2005','2006','2007','2008','2009','2010','2011','2012','2013','2014','2015','2016','2017','2018','2019','2020']\n",
    "df3 = PCT.assign(Year=Years)\n",
    "Inflation = [0.054,0.0424,0.0303,0.0295,0.0261,0.0281,0.0293,0.0234,0.0155,0.0219,0.0338,0.0283,0.0227,0.0268,0.0339,0.0323,0.0285,0.0384,-0.0036,0.0164,0.0316,0.0207,0.0146,0.0162,0.0012,0.0126,0.0213,0.0244,0.0181,0.0123]\n",
    "df4 = df3.assign(Inflation=Inflation)\n",
    "df4.columns = ['Change in Earnings','Year','Inflation']\n",
    "df4.head()"
   ]
  },
  {
   "cell_type": "code",
   "execution_count": 18,
   "id": "87aded58-c078-48ea-ba21-1a2b2579ea53",
   "metadata": {},
   "outputs": [
    {
     "data": {
      "text/plain": [
       "<AxesSubplot:title={'center':'Comparison of Earnings and Inflation'}, xlabel='Year'>"
      ]
     },
     "execution_count": 18,
     "metadata": {},
     "output_type": "execute_result"
    },
    {
     "data": {
      "image/png": "[encoded data removed]",
      "text/plain": [
       "<Figure size 432x288 with 1 Axes>"
      ]
     },
     "metadata": {
      "needs_background": "light"
     },
     "output_type": "display_data"
    }
   ],
   "source": [
    "df4.plot(x=\"Year\", y=['Inflation','Change in Earnings'],title='Comparison of Earnings and Inflation')"
   ]
  },
  {
   "cell_type": "markdown",
   "id": "3dbc2819-d892-4253-803c-176840c84726",
   "metadata": {},
   "source": [
    "Analysis: As we can see from the graph the growth rate of earnings is not only more volatile but also more extreme than inflation rates. Inflation might raise the price of goods and services in the economy but in comparison with Forbes Richest Athletes, inflation has little to no affect on their earnings. \n"
   ]
  },
  {
   "cell_type": "markdown",
   "id": "4d88e27c-f2f4-4a95-a322-c37d785253b8",
   "metadata": {},
   "source": [
    "# Analysis "
   ]
  },
  {
   "cell_type": "markdown",
   "id": "ef1ffbd2-95dd-405c-8b7d-a781e8a08d69",
   "metadata": {},
   "source": [
    "Question 1: Which sport pays their athletes the most"
   ]
  },
  {
   "cell_type": "code",
   "execution_count": 19,
   "id": "49714ac1-a131-4336-8644-87d2bdddd419",
   "metadata": {},
   "outputs": [
    {
     "data": {
      "text/html": [
       "<div>\n",
       "<style scoped>\n",
       "    .dataframe tbody tr th:only-of-type {\n",
       "        vertical-align: middle;\n",
       "    }\n",
       "\n",
       "    .dataframe tbody tr th {\n",
       "        vertical-align: top;\n",
       "    }\n",
       "\n",
       "    .dataframe thead th {\n",
       "        text-align: right;\n",
       "    }\n",
       "</style>\n",
       "<table border=\"1\" class=\"dataframe\">\n",
       "  <thead>\n",
       "    <tr style=\"text-align: right;\">\n",
       "      <th></th>\n",
       "      <th>Sport</th>\n",
       "      <th>Earnings ($ million)</th>\n",
       "    </tr>\n",
       "  </thead>\n",
       "  <tbody>\n",
       "    <tr>\n",
       "      <th>2</th>\n",
       "      <td>BOXING</td>\n",
       "      <td>134.157143</td>\n",
       "    </tr>\n",
       "    <tr>\n",
       "      <th>5</th>\n",
       "      <td>TENNIS</td>\n",
       "      <td>106.300000</td>\n",
       "    </tr>\n",
       "    <tr>\n",
       "      <th>4</th>\n",
       "      <td>SOCCER</td>\n",
       "      <td>102.666667</td>\n",
       "    </tr>\n",
       "    <tr>\n",
       "      <th>3</th>\n",
       "      <td>GOLF</td>\n",
       "      <td>89.763636</td>\n",
       "    </tr>\n",
       "    <tr>\n",
       "      <th>0</th>\n",
       "      <td>AUTO RACING</td>\n",
       "      <td>54.000000</td>\n",
       "    </tr>\n",
       "    <tr>\n",
       "      <th>1</th>\n",
       "      <td>BASKETBALL</td>\n",
       "      <td>48.850000</td>\n",
       "    </tr>\n",
       "  </tbody>\n",
       "</table>\n",
       "</div>"
      ],
      "text/plain": [
       "         Sport  Earnings ($ million)\n",
       "2       BOXING            134.157143\n",
       "5       TENNIS            106.300000\n",
       "4       SOCCER            102.666667\n",
       "3         GOLF             89.763636\n",
       "0  AUTO RACING             54.000000\n",
       "1   BASKETBALL             48.850000"
      ]
     },
     "execution_count": 19,
     "metadata": {},
     "output_type": "execute_result"
    }
   ],
   "source": [
    "t_mean = pd.DataFrame(df_items.groupby(\"Sport\")[\"Earnings ($ million)\"].mean())\n",
    "t_mean.columns = [var.capitalize() for var in t_mean.columns]\n",
    "t_mean = t_mean.rename_axis(\"Sport\").reset_index()\n",
    "t_mean = t_mean .sort_values(by=[\"Earnings ($ million)\"], ascending= False)\n",
    "t_mean[[\"Sport\", \"Earnings ($ million)\"]].head(10)"
   ]
  },
  {
   "cell_type": "markdown",
   "id": "3a8b4d86-a93f-488a-b050-9c447ebe4b12",
   "metadata": {},
   "source": [
    " Question 2: Which country has highing paid athletes"
   ]
  },
  {
   "cell_type": "code",
   "execution_count": 20,
   "id": "e98bbd22-dfa6-4ffa-9efb-647bb29c75b3",
   "metadata": {},
   "outputs": [
    {
     "data": {
      "text/html": [
       "<div>\n",
       "<style scoped>\n",
       "    .dataframe tbody tr th:only-of-type {\n",
       "        vertical-align: middle;\n",
       "    }\n",
       "\n",
       "    .dataframe tbody tr th {\n",
       "        vertical-align: top;\n",
       "    }\n",
       "\n",
       "    .dataframe thead th {\n",
       "        text-align: right;\n",
       "    }\n",
       "</style>\n",
       "<table border=\"1\" class=\"dataframe\">\n",
       "  <thead>\n",
       "    <tr style=\"text-align: right;\">\n",
       "      <th></th>\n",
       "      <th>Nationality</th>\n",
       "      <th>Earnings ($ million)</th>\n",
       "    </tr>\n",
       "  </thead>\n",
       "  <tbody>\n",
       "    <tr>\n",
       "      <th>0</th>\n",
       "      <td>Argentina</td>\n",
       "      <td>127.000000</td>\n",
       "    </tr>\n",
       "    <tr>\n",
       "      <th>3</th>\n",
       "      <td>Switzerland</td>\n",
       "      <td>106.300000</td>\n",
       "    </tr>\n",
       "    <tr>\n",
       "      <th>4</th>\n",
       "      <td>USA</td>\n",
       "      <td>92.483333</td>\n",
       "    </tr>\n",
       "    <tr>\n",
       "      <th>2</th>\n",
       "      <td>Portugal</td>\n",
       "      <td>90.500000</td>\n",
       "    </tr>\n",
       "    <tr>\n",
       "      <th>1</th>\n",
       "      <td>Germany</td>\n",
       "      <td>54.000000</td>\n",
       "    </tr>\n",
       "  </tbody>\n",
       "</table>\n",
       "</div>"
      ],
      "text/plain": [
       "   Nationality  Earnings ($ million)\n",
       "0    Argentina            127.000000\n",
       "3  Switzerland            106.300000\n",
       "4          USA             92.483333\n",
       "2     Portugal             90.500000\n",
       "1      Germany             54.000000"
      ]
     },
     "execution_count": 20,
     "metadata": {},
     "output_type": "execute_result"
    }
   ],
   "source": [
    "t_mean = pd.DataFrame(df_items.groupby(\"Nationality\")[\"Earnings ($ million)\"].mean())\n",
    "t_mean.columns = [var.capitalize() for var in t_mean.columns]\n",
    "t_mean = t_mean.rename_axis(\"Nationality\").reset_index()\n",
    "t_mean = t_mean .sort_values(by=[\"Earnings ($ million)\"], ascending= False)\n",
    "t_mean[[\"Nationality\", \"Earnings ($ million)\"]].head(10)"
   ]
  },
  {
   "cell_type": "markdown",
   "id": "a8c43ada-70b7-48cb-a459-f8129b510b44",
   "metadata": {},
   "source": [
    "Question 3 : How dominant are athletes of USA nationality? How often are they top 3 earners compared to other nationalities?"
   ]
  },
  {
   "cell_type": "code",
   "execution_count": 21,
   "id": "5ae86e98-8c8a-4eb1-958f-b47361683f21",
   "metadata": {},
   "outputs": [],
   "source": [
    "df7 = df.assign(count=1)\n",
    "df7[\"Sport\"] = df7[\"Sport\"].str.upper()"
   ]
  },
  {
   "cell_type": "code",
   "execution_count": 22,
   "id": "751f4c20-22d5-43d1-bc05-0c4cc33f5ecf",
   "metadata": {},
   "outputs": [
    {
     "data": {
      "text/html": [
       "<div>\n",
       "<style scoped>\n",
       "    .dataframe tbody tr th:only-of-type {\n",
       "        vertical-align: middle;\n",
       "    }\n",
       "\n",
       "    .dataframe tbody tr th {\n",
       "        vertical-align: top;\n",
       "    }\n",
       "\n",
       "    .dataframe thead th {\n",
       "        text-align: right;\n",
       "    }\n",
       "</style>\n",
       "<table border=\"1\" class=\"dataframe\">\n",
       "  <thead>\n",
       "    <tr style=\"text-align: right;\">\n",
       "      <th></th>\n",
       "      <th>S.no</th>\n",
       "      <th>Name</th>\n",
       "      <th>Nationality</th>\n",
       "      <th>Current rank</th>\n",
       "      <th>Previous year rank</th>\n",
       "      <th>Sport</th>\n",
       "      <th>Year</th>\n",
       "      <th>Earnings ($ million)</th>\n",
       "      <th>rank_one</th>\n",
       "      <th>count</th>\n",
       "    </tr>\n",
       "  </thead>\n",
       "  <tbody>\n",
       "    <tr>\n",
       "      <th>0</th>\n",
       "      <td>1</td>\n",
       "      <td>Mike Tyson</td>\n",
       "      <td>USA</td>\n",
       "      <td>1</td>\n",
       "      <td>NaN</td>\n",
       "      <td>BOXING</td>\n",
       "      <td>1990</td>\n",
       "      <td>28.6</td>\n",
       "      <td>yes</td>\n",
       "      <td>1</td>\n",
       "    </tr>\n",
       "    <tr>\n",
       "      <th>1</th>\n",
       "      <td>2</td>\n",
       "      <td>Buster Douglas</td>\n",
       "      <td>USA</td>\n",
       "      <td>2</td>\n",
       "      <td>NaN</td>\n",
       "      <td>BOXING</td>\n",
       "      <td>1990</td>\n",
       "      <td>26.0</td>\n",
       "      <td>no</td>\n",
       "      <td>1</td>\n",
       "    </tr>\n",
       "    <tr>\n",
       "      <th>2</th>\n",
       "      <td>3</td>\n",
       "      <td>Sugar Ray Leonard</td>\n",
       "      <td>USA</td>\n",
       "      <td>3</td>\n",
       "      <td>NaN</td>\n",
       "      <td>BOXING</td>\n",
       "      <td>1990</td>\n",
       "      <td>13.0</td>\n",
       "      <td>no</td>\n",
       "      <td>1</td>\n",
       "    </tr>\n",
       "    <tr>\n",
       "      <th>10</th>\n",
       "      <td>11</td>\n",
       "      <td>Evander Holyfield</td>\n",
       "      <td>USA</td>\n",
       "      <td>1</td>\n",
       "      <td>8</td>\n",
       "      <td>BOXING</td>\n",
       "      <td>1991</td>\n",
       "      <td>60.5</td>\n",
       "      <td>yes</td>\n",
       "      <td>1</td>\n",
       "    </tr>\n",
       "    <tr>\n",
       "      <th>11</th>\n",
       "      <td>12</td>\n",
       "      <td>Mike Tyson</td>\n",
       "      <td>USA</td>\n",
       "      <td>2</td>\n",
       "      <td>1</td>\n",
       "      <td>BOXING</td>\n",
       "      <td>1991</td>\n",
       "      <td>31.5</td>\n",
       "      <td>no</td>\n",
       "      <td>1</td>\n",
       "    </tr>\n",
       "    <tr>\n",
       "      <th>...</th>\n",
       "      <td>...</td>\n",
       "      <td>...</td>\n",
       "      <td>...</td>\n",
       "      <td>...</td>\n",
       "      <td>...</td>\n",
       "      <td>...</td>\n",
       "      <td>...</td>\n",
       "      <td>...</td>\n",
       "      <td>...</td>\n",
       "      <td>...</td>\n",
       "    </tr>\n",
       "    <tr>\n",
       "      <th>282</th>\n",
       "      <td>283</td>\n",
       "      <td>Cristiano Ronaldo</td>\n",
       "      <td>Portugal</td>\n",
       "      <td>2</td>\n",
       "      <td>3</td>\n",
       "      <td>SOCCER</td>\n",
       "      <td>2019</td>\n",
       "      <td>109.0</td>\n",
       "      <td>no</td>\n",
       "      <td>1</td>\n",
       "    </tr>\n",
       "    <tr>\n",
       "      <th>283</th>\n",
       "      <td>284</td>\n",
       "      <td>Neymar</td>\n",
       "      <td>Brazil</td>\n",
       "      <td>3</td>\n",
       "      <td>5</td>\n",
       "      <td>SOCCER</td>\n",
       "      <td>2019</td>\n",
       "      <td>105.0</td>\n",
       "      <td>no</td>\n",
       "      <td>1</td>\n",
       "    </tr>\n",
       "    <tr>\n",
       "      <th>291</th>\n",
       "      <td>292</td>\n",
       "      <td>Roger Federer</td>\n",
       "      <td>Switzerland</td>\n",
       "      <td>1</td>\n",
       "      <td>5</td>\n",
       "      <td>TENNIS</td>\n",
       "      <td>2020</td>\n",
       "      <td>106.3</td>\n",
       "      <td>yes</td>\n",
       "      <td>1</td>\n",
       "    </tr>\n",
       "    <tr>\n",
       "      <th>292</th>\n",
       "      <td>293</td>\n",
       "      <td>Cristiano Ronaldo</td>\n",
       "      <td>Portugal</td>\n",
       "      <td>2</td>\n",
       "      <td>2</td>\n",
       "      <td>SOCCER</td>\n",
       "      <td>2020</td>\n",
       "      <td>105.0</td>\n",
       "      <td>no</td>\n",
       "      <td>1</td>\n",
       "    </tr>\n",
       "    <tr>\n",
       "      <th>293</th>\n",
       "      <td>294</td>\n",
       "      <td>Lionel Messi</td>\n",
       "      <td>Argentina</td>\n",
       "      <td>3</td>\n",
       "      <td>1</td>\n",
       "      <td>SOCCER</td>\n",
       "      <td>2020</td>\n",
       "      <td>104.0</td>\n",
       "      <td>no</td>\n",
       "      <td>1</td>\n",
       "    </tr>\n",
       "  </tbody>\n",
       "</table>\n",
       "<p>92 rows × 10 columns</p>\n",
       "</div>"
      ],
      "text/plain": [
       "     S.no               Name  Nationality  Current rank Previous year rank  \\\n",
       "0       1         Mike Tyson          USA             1                NaN   \n",
       "1       2     Buster Douglas          USA             2                NaN   \n",
       "2       3  Sugar Ray Leonard          USA             3                NaN   \n",
       "10     11  Evander Holyfield          USA             1                  8   \n",
       "11     12         Mike Tyson          USA             2                  1   \n",
       "..    ...                ...          ...           ...                ...   \n",
       "282   283  Cristiano Ronaldo     Portugal             2                  3   \n",
       "283   284             Neymar       Brazil             3                  5   \n",
       "291   292      Roger Federer  Switzerland             1                  5   \n",
       "292   293  Cristiano Ronaldo     Portugal             2                  2   \n",
       "293   294       Lionel Messi    Argentina             3                  1   \n",
       "\n",
       "      Sport  Year  Earnings ($ million) rank_one  count  \n",
       "0    BOXING  1990                  28.6      yes      1  \n",
       "1    BOXING  1990                  26.0       no      1  \n",
       "2    BOXING  1990                  13.0       no      1  \n",
       "10   BOXING  1991                  60.5      yes      1  \n",
       "11   BOXING  1991                  31.5       no      1  \n",
       "..      ...   ...                   ...      ...    ...  \n",
       "282  SOCCER  2019                 109.0       no      1  \n",
       "283  SOCCER  2019                 105.0       no      1  \n",
       "291  TENNIS  2020                 106.3      yes      1  \n",
       "292  SOCCER  2020                 105.0       no      1  \n",
       "293  SOCCER  2020                 104.0       no      1  \n",
       "\n",
       "[92 rows x 10 columns]"
      ]
     },
     "execution_count": 22,
     "metadata": {},
     "output_type": "execute_result"
    }
   ],
   "source": [
    "Top3 = df7[(df[\"Current rank\"] != 10)&(df7[\"Current rank\"]  != 9)&(df7[\"Current rank\"]  != 8)&(df7[\"Current rank\"]  != 7)&(df7[\"Current rank\"]  != 6)&(df7[\"Current rank\"]  != 5)&(df7[\"Current rank\"] != 4)]\n",
    "Top3"
   ]
  },
  {
   "cell_type": "code",
   "execution_count": 23,
   "id": "0fb5873d-9ff3-40b4-8fc2-56c04fb74c54",
   "metadata": {},
   "outputs": [
    {
     "data": {
      "text/html": [
       "<div>\n",
       "<style scoped>\n",
       "    .dataframe tbody tr th:only-of-type {\n",
       "        vertical-align: middle;\n",
       "    }\n",
       "\n",
       "    .dataframe tbody tr th {\n",
       "        vertical-align: top;\n",
       "    }\n",
       "\n",
       "    .dataframe thead th {\n",
       "        text-align: right;\n",
       "    }\n",
       "</style>\n",
       "<table border=\"1\" class=\"dataframe\">\n",
       "  <thead>\n",
       "    <tr style=\"text-align: right;\">\n",
       "      <th></th>\n",
       "      <th>count</th>\n",
       "    </tr>\n",
       "    <tr>\n",
       "      <th>Nationality</th>\n",
       "      <th></th>\n",
       "    </tr>\n",
       "  </thead>\n",
       "  <tbody>\n",
       "    <tr>\n",
       "      <th>Argentina</th>\n",
       "      <td>5</td>\n",
       "    </tr>\n",
       "    <tr>\n",
       "      <th>Brazil</th>\n",
       "      <td>3</td>\n",
       "    </tr>\n",
       "    <tr>\n",
       "      <th>Filipino</th>\n",
       "      <td>1</td>\n",
       "    </tr>\n",
       "    <tr>\n",
       "      <th>Finland</th>\n",
       "      <td>1</td>\n",
       "    </tr>\n",
       "    <tr>\n",
       "      <th>Germany</th>\n",
       "      <td>9</td>\n",
       "    </tr>\n",
       "    <tr>\n",
       "      <th>Philippines</th>\n",
       "      <td>1</td>\n",
       "    </tr>\n",
       "    <tr>\n",
       "      <th>Portugal</th>\n",
       "      <td>7</td>\n",
       "    </tr>\n",
       "    <tr>\n",
       "      <th>Russia</th>\n",
       "      <td>1</td>\n",
       "    </tr>\n",
       "    <tr>\n",
       "      <th>Switzerland</th>\n",
       "      <td>2</td>\n",
       "    </tr>\n",
       "    <tr>\n",
       "      <th>UK</th>\n",
       "      <td>1</td>\n",
       "    </tr>\n",
       "    <tr>\n",
       "      <th>USA</th>\n",
       "      <td>61</td>\n",
       "    </tr>\n",
       "  </tbody>\n",
       "</table>\n",
       "</div>"
      ],
      "text/plain": [
       "             count\n",
       "Nationality       \n",
       "Argentina        5\n",
       "Brazil           3\n",
       "Filipino         1\n",
       "Finland          1\n",
       "Germany          9\n",
       "Philippines      1\n",
       "Portugal         7\n",
       "Russia           1\n",
       "Switzerland      2\n",
       "UK               1\n",
       "USA             61"
      ]
     },
     "execution_count": 23,
     "metadata": {},
     "output_type": "execute_result"
    }
   ],
   "source": [
    "\n",
    "NationT3 = Top3.groupby('Nationality').count().drop(columns=['Current rank','S.no', 'Name','Previous year rank','Sport','Year','Earnings ($ million)', \"rank_one\"])\n",
    "NationT3\n"
   ]
  },
  {
   "cell_type": "markdown",
   "id": "8d15f92d-09fc-4997-bd84-73ed40875201",
   "metadata": {},
   "source": [
    "Analysis: Athletes with American nationality are extremely dominant in earnings. Over the past 30 years, they reach the top 3 61 times while the next closest nationality (Germany) only managed to reach the top 3 9 times. Other countries have very few athletes breaking the top 3 earnings mark. "
   ]
  },
  {
   "cell_type": "markdown",
   "id": "bfd93e05-10a3-4210-a4f1-759709971928",
   "metadata": {},
   "source": [
    "Question 4: Knowing that the US nationality has dominated the charts of the Forbes Richest Athletes list, what specific sports is the US most dominant in? "
   ]
  },
  {
   "cell_type": "code",
   "execution_count": 24,
   "id": "fc5d84f7-578d-4b79-bb9a-7b0748d759ce",
   "metadata": {},
   "outputs": [
    {
     "data": {
      "text/html": [
       "<div>\n",
       "<style scoped>\n",
       "    .dataframe tbody tr th:only-of-type {\n",
       "        vertical-align: middle;\n",
       "    }\n",
       "\n",
       "    .dataframe tbody tr th {\n",
       "        vertical-align: top;\n",
       "    }\n",
       "\n",
       "    .dataframe thead th {\n",
       "        text-align: right;\n",
       "    }\n",
       "</style>\n",
       "<table border=\"1\" class=\"dataframe\">\n",
       "  <thead>\n",
       "    <tr style=\"text-align: right;\">\n",
       "      <th></th>\n",
       "      <th>count</th>\n",
       "    </tr>\n",
       "    <tr>\n",
       "      <th>Sport</th>\n",
       "      <th></th>\n",
       "    </tr>\n",
       "  </thead>\n",
       "  <tbody>\n",
       "    <tr>\n",
       "      <th>AMERICAN FOOTBALL</th>\n",
       "      <td>17</td>\n",
       "    </tr>\n",
       "    <tr>\n",
       "      <th>AMERICAN FOOTBALL / BASEBALL</th>\n",
       "      <td>1</td>\n",
       "    </tr>\n",
       "    <tr>\n",
       "      <th>AUTO RACING</th>\n",
       "      <td>18</td>\n",
       "    </tr>\n",
       "    <tr>\n",
       "      <th>AUTO RACING (NASCAR)</th>\n",
       "      <td>2</td>\n",
       "    </tr>\n",
       "    <tr>\n",
       "      <th>BASEBALL</th>\n",
       "      <td>6</td>\n",
       "    </tr>\n",
       "    <tr>\n",
       "      <th>BASKETBALL</th>\n",
       "      <td>81</td>\n",
       "    </tr>\n",
       "    <tr>\n",
       "      <th>BOXING</th>\n",
       "      <td>46</td>\n",
       "    </tr>\n",
       "    <tr>\n",
       "      <th>CYCLING</th>\n",
       "      <td>1</td>\n",
       "    </tr>\n",
       "    <tr>\n",
       "      <th>F1 MOTORSPORTS</th>\n",
       "      <td>5</td>\n",
       "    </tr>\n",
       "    <tr>\n",
       "      <th>F1 RACING</th>\n",
       "      <td>8</td>\n",
       "    </tr>\n",
       "    <tr>\n",
       "      <th>GOLF</th>\n",
       "      <td>44</td>\n",
       "    </tr>\n",
       "    <tr>\n",
       "      <th>HOCKEY</th>\n",
       "      <td>1</td>\n",
       "    </tr>\n",
       "    <tr>\n",
       "      <th>ICE HOCKEY</th>\n",
       "      <td>3</td>\n",
       "    </tr>\n",
       "    <tr>\n",
       "      <th>MMA</th>\n",
       "      <td>1</td>\n",
       "    </tr>\n",
       "    <tr>\n",
       "      <th>MOTORCYCLE GP</th>\n",
       "      <td>4</td>\n",
       "    </tr>\n",
       "    <tr>\n",
       "      <th>NASCAR</th>\n",
       "      <td>3</td>\n",
       "    </tr>\n",
       "    <tr>\n",
       "      <th>NBA</th>\n",
       "      <td>1</td>\n",
       "    </tr>\n",
       "    <tr>\n",
       "      <th>NFL</th>\n",
       "      <td>3</td>\n",
       "    </tr>\n",
       "    <tr>\n",
       "      <th>SOCCER</th>\n",
       "      <td>33</td>\n",
       "    </tr>\n",
       "    <tr>\n",
       "      <th>TENNIS</th>\n",
       "      <td>23</td>\n",
       "    </tr>\n",
       "  </tbody>\n",
       "</table>\n",
       "</div>"
      ],
      "text/plain": [
       "                              count\n",
       "Sport                              \n",
       "AMERICAN FOOTBALL                17\n",
       "AMERICAN FOOTBALL / BASEBALL      1\n",
       "AUTO RACING                      18\n",
       "AUTO RACING (NASCAR)              2\n",
       "BASEBALL                          6\n",
       "BASKETBALL                       81\n",
       "BOXING                           46\n",
       "CYCLING                           1\n",
       "F1 MOTORSPORTS                    5\n",
       "F1 RACING                         8\n",
       "GOLF                             44\n",
       "HOCKEY                            1\n",
       "ICE HOCKEY                        3\n",
       "MMA                               1\n",
       "MOTORCYCLE GP                     4\n",
       "NASCAR                            3\n",
       "NBA                               1\n",
       "NFL                               3\n",
       "SOCCER                           33\n",
       "TENNIS                           23"
      ]
     },
     "execution_count": 24,
     "metadata": {},
     "output_type": "execute_result"
    }
   ],
   "source": [
    "Sports = df7.groupby('Sport').count().drop(columns=['S.no', 'Name','Previous year rank','Current rank','Year','Earnings ($ million)','Nationality', \"rank_one\"])\n",
    "Sports\n"
   ]
  },
  {
   "cell_type": "code",
   "execution_count": 25,
   "id": "ebc9d94f-272b-41d5-89cf-23e0b06a333b",
   "metadata": {},
   "outputs": [
    {
     "data": {
      "text/html": [
       "<div>\n",
       "<style scoped>\n",
       "    .dataframe tbody tr th:only-of-type {\n",
       "        vertical-align: middle;\n",
       "    }\n",
       "\n",
       "    .dataframe tbody tr th {\n",
       "        vertical-align: top;\n",
       "    }\n",
       "\n",
       "    .dataframe thead th {\n",
       "        text-align: right;\n",
       "    }\n",
       "</style>\n",
       "<table border=\"1\" class=\"dataframe\">\n",
       "  <thead>\n",
       "    <tr style=\"text-align: right;\">\n",
       "      <th></th>\n",
       "      <th>count</th>\n",
       "    </tr>\n",
       "    <tr>\n",
       "      <th>Sport</th>\n",
       "      <th></th>\n",
       "    </tr>\n",
       "  </thead>\n",
       "  <tbody>\n",
       "    <tr>\n",
       "      <th>AUTO RACING</th>\n",
       "      <td>17</td>\n",
       "    </tr>\n",
       "    <tr>\n",
       "      <th>BASEBALL</th>\n",
       "      <td>1</td>\n",
       "    </tr>\n",
       "    <tr>\n",
       "      <th>BOXING</th>\n",
       "      <td>6</td>\n",
       "    </tr>\n",
       "    <tr>\n",
       "      <th>F1 MOTORSPORTS</th>\n",
       "      <td>5</td>\n",
       "    </tr>\n",
       "    <tr>\n",
       "      <th>F1 RACING</th>\n",
       "      <td>8</td>\n",
       "    </tr>\n",
       "    <tr>\n",
       "      <th>GOLF</th>\n",
       "      <td>2</td>\n",
       "    </tr>\n",
       "    <tr>\n",
       "      <th>HOCKEY</th>\n",
       "      <td>1</td>\n",
       "    </tr>\n",
       "    <tr>\n",
       "      <th>ICE HOCKEY</th>\n",
       "      <td>3</td>\n",
       "    </tr>\n",
       "    <tr>\n",
       "      <th>MMA</th>\n",
       "      <td>1</td>\n",
       "    </tr>\n",
       "    <tr>\n",
       "      <th>MOTORCYCLE GP</th>\n",
       "      <td>4</td>\n",
       "    </tr>\n",
       "    <tr>\n",
       "      <th>SOCCER</th>\n",
       "      <td>33</td>\n",
       "    </tr>\n",
       "    <tr>\n",
       "      <th>TENNIS</th>\n",
       "      <td>14</td>\n",
       "    </tr>\n",
       "  </tbody>\n",
       "</table>\n",
       "</div>"
      ],
      "text/plain": [
       "                count\n",
       "Sport                \n",
       "AUTO RACING        17\n",
       "BASEBALL            1\n",
       "BOXING              6\n",
       "F1 MOTORSPORTS      5\n",
       "F1 RACING           8\n",
       "GOLF                2\n",
       "HOCKEY              1\n",
       "ICE HOCKEY          3\n",
       "MMA                 1\n",
       "MOTORCYCLE GP       4\n",
       "SOCCER             33\n",
       "TENNIS             14"
      ]
     },
     "execution_count": 25,
     "metadata": {},
     "output_type": "execute_result"
    }
   ],
   "source": [
    "NoUS_Sports = df7[(df7.Nationality != 'USA')]\n",
    "NoUS_SportsF = NoUS_Sports.groupby('Sport').count().drop(columns=['S.no', 'Name','Previous year rank','Current rank','Year','Earnings ($ million)',\"Nationality\", \"rank_one\"])\n",
    "NoUS_SportsF "
   ]
  },
  {
   "cell_type": "markdown",
   "id": "98baacf1-5e25-4c3e-bdb5-46b640348f05",
   "metadata": {},
   "source": [
    "Analysis: Athletes of US nationality tend to excel in golf, boxing, and basketball. US athletes make up a majority of the sport's top earners. Interestingly though, athletes of US nationality never are top earners in the sport of soccer. Even though US athletes are lacking in soccer they definitely dominant in other sports. "
   ]
  },
  {
   "cell_type": "markdown",
   "id": "cbe8698c-6388-4ddc-91a5-446bbf4f6ceb",
   "metadata": {},
   "source": [
    "Question 5: How has the prevalence of sports evolved since 1990? Compare the earnings of sports prior to 2005 and after 2005"
   ]
  },
  {
   "cell_type": "code",
   "execution_count": 26,
   "id": "3192f249-20d7-4436-a502-07c048d182c1",
   "metadata": {},
   "outputs": [
    {
     "data": {
      "text/html": [
       "<div>\n",
       "<style scoped>\n",
       "    .dataframe tbody tr th:only-of-type {\n",
       "        vertical-align: middle;\n",
       "    }\n",
       "\n",
       "    .dataframe tbody tr th {\n",
       "        vertical-align: top;\n",
       "    }\n",
       "\n",
       "    .dataframe thead th {\n",
       "        text-align: right;\n",
       "    }\n",
       "</style>\n",
       "<table border=\"1\" class=\"dataframe\">\n",
       "  <thead>\n",
       "    <tr style=\"text-align: right;\">\n",
       "      <th></th>\n",
       "      <th>count</th>\n",
       "    </tr>\n",
       "    <tr>\n",
       "      <th>Sport</th>\n",
       "      <th></th>\n",
       "    </tr>\n",
       "  </thead>\n",
       "  <tbody>\n",
       "    <tr>\n",
       "      <th>AMERICAN FOOTBALL</th>\n",
       "      <td>2</td>\n",
       "    </tr>\n",
       "    <tr>\n",
       "      <th>AMERICAN FOOTBALL / BASEBALL</th>\n",
       "      <td>1</td>\n",
       "    </tr>\n",
       "    <tr>\n",
       "      <th>AUTO RACING</th>\n",
       "      <td>17</td>\n",
       "    </tr>\n",
       "    <tr>\n",
       "      <th>AUTO RACING (NASCAR)</th>\n",
       "      <td>2</td>\n",
       "    </tr>\n",
       "    <tr>\n",
       "      <th>BASEBALL</th>\n",
       "      <td>4</td>\n",
       "    </tr>\n",
       "    <tr>\n",
       "      <th>BASKETBALL</th>\n",
       "      <td>41</td>\n",
       "    </tr>\n",
       "    <tr>\n",
       "      <th>BOXING</th>\n",
       "      <td>34</td>\n",
       "    </tr>\n",
       "    <tr>\n",
       "      <th>CYCLING</th>\n",
       "      <td>1</td>\n",
       "    </tr>\n",
       "    <tr>\n",
       "      <th>F1 MOTORSPORTS</th>\n",
       "      <td>5</td>\n",
       "    </tr>\n",
       "    <tr>\n",
       "      <th>F1 RACING</th>\n",
       "      <td>2</td>\n",
       "    </tr>\n",
       "    <tr>\n",
       "      <th>GOLF</th>\n",
       "      <td>20</td>\n",
       "    </tr>\n",
       "    <tr>\n",
       "      <th>HOCKEY</th>\n",
       "      <td>1</td>\n",
       "    </tr>\n",
       "    <tr>\n",
       "      <th>ICE HOCKEY</th>\n",
       "      <td>3</td>\n",
       "    </tr>\n",
       "    <tr>\n",
       "      <th>MOTORCYCLE GP</th>\n",
       "      <td>1</td>\n",
       "    </tr>\n",
       "    <tr>\n",
       "      <th>NASCAR</th>\n",
       "      <td>2</td>\n",
       "    </tr>\n",
       "    <tr>\n",
       "      <th>NBA</th>\n",
       "      <td>1</td>\n",
       "    </tr>\n",
       "    <tr>\n",
       "      <th>NFL</th>\n",
       "      <td>3</td>\n",
       "    </tr>\n",
       "    <tr>\n",
       "      <th>SOCCER</th>\n",
       "      <td>2</td>\n",
       "    </tr>\n",
       "    <tr>\n",
       "      <th>TENNIS</th>\n",
       "      <td>9</td>\n",
       "    </tr>\n",
       "  </tbody>\n",
       "</table>\n",
       "</div>"
      ],
      "text/plain": [
       "                              count\n",
       "Sport                              \n",
       "AMERICAN FOOTBALL                 2\n",
       "AMERICAN FOOTBALL / BASEBALL      1\n",
       "AUTO RACING                      17\n",
       "AUTO RACING (NASCAR)              2\n",
       "BASEBALL                          4\n",
       "BASKETBALL                       41\n",
       "BOXING                           34\n",
       "CYCLING                           1\n",
       "F1 MOTORSPORTS                    5\n",
       "F1 RACING                         2\n",
       "GOLF                             20\n",
       "HOCKEY                            1\n",
       "ICE HOCKEY                        3\n",
       "MOTORCYCLE GP                     1\n",
       "NASCAR                            2\n",
       "NBA                               1\n",
       "NFL                               3\n",
       "SOCCER                            2\n",
       "TENNIS                            9"
      ]
     },
     "execution_count": 26,
     "metadata": {},
     "output_type": "execute_result"
    }
   ],
   "source": [
    "Sports2005P = df7[(df.Year != 2020)&(df7.Year != 2019)&(df7.Year != 2018)&(df7.Year != 2017)&(df7.Year != 2016)&(df7.Year != 2015)&(df7.Year != 2014)&(df7.Year != 2013)&(df7.Year != 2012)&(df7.Year != 2011)&(df7.Year != 2010)&(df7.Year != 2009)&(df7.Year != 2008)&(df7.Year != 2007)&(df7.Year != 2006)]\n",
    "Sports2005G = Sports2005P.groupby('Sport').count().drop(columns=['S.no', 'Name','Previous year rank','Current rank','Year','Earnings ($ million)',\"Nationality\", \"rank_one\"])\n",
    "                                                                \n",
    "Sports2005G"
   ]
  },
  {
   "cell_type": "code",
   "execution_count": 27,
   "id": "d09c6173-c6de-426b-8a83-83d2d5033fb1",
   "metadata": {},
   "outputs": [
    {
     "data": {
      "text/html": [
       "<div>\n",
       "<style scoped>\n",
       "    .dataframe tbody tr th:only-of-type {\n",
       "        vertical-align: middle;\n",
       "    }\n",
       "\n",
       "    .dataframe tbody tr th {\n",
       "        vertical-align: top;\n",
       "    }\n",
       "\n",
       "    .dataframe thead th {\n",
       "        text-align: right;\n",
       "    }\n",
       "</style>\n",
       "<table border=\"1\" class=\"dataframe\">\n",
       "  <thead>\n",
       "    <tr style=\"text-align: right;\">\n",
       "      <th></th>\n",
       "      <th>count</th>\n",
       "    </tr>\n",
       "    <tr>\n",
       "      <th>Sport</th>\n",
       "      <th></th>\n",
       "    </tr>\n",
       "  </thead>\n",
       "  <tbody>\n",
       "    <tr>\n",
       "      <th>AMERICAN FOOTBALL</th>\n",
       "      <td>15</td>\n",
       "    </tr>\n",
       "    <tr>\n",
       "      <th>AUTO RACING</th>\n",
       "      <td>1</td>\n",
       "    </tr>\n",
       "    <tr>\n",
       "      <th>BASEBALL</th>\n",
       "      <td>2</td>\n",
       "    </tr>\n",
       "    <tr>\n",
       "      <th>BASKETBALL</th>\n",
       "      <td>40</td>\n",
       "    </tr>\n",
       "    <tr>\n",
       "      <th>BOXING</th>\n",
       "      <td>12</td>\n",
       "    </tr>\n",
       "    <tr>\n",
       "      <th>F1 RACING</th>\n",
       "      <td>6</td>\n",
       "    </tr>\n",
       "    <tr>\n",
       "      <th>GOLF</th>\n",
       "      <td>24</td>\n",
       "    </tr>\n",
       "    <tr>\n",
       "      <th>MMA</th>\n",
       "      <td>1</td>\n",
       "    </tr>\n",
       "    <tr>\n",
       "      <th>MOTORCYCLE GP</th>\n",
       "      <td>3</td>\n",
       "    </tr>\n",
       "    <tr>\n",
       "      <th>NASCAR</th>\n",
       "      <td>1</td>\n",
       "    </tr>\n",
       "    <tr>\n",
       "      <th>SOCCER</th>\n",
       "      <td>31</td>\n",
       "    </tr>\n",
       "    <tr>\n",
       "      <th>TENNIS</th>\n",
       "      <td>14</td>\n",
       "    </tr>\n",
       "  </tbody>\n",
       "</table>\n",
       "</div>"
      ],
      "text/plain": [
       "                   count\n",
       "Sport                   \n",
       "AMERICAN FOOTBALL     15\n",
       "AUTO RACING            1\n",
       "BASEBALL               2\n",
       "BASKETBALL            40\n",
       "BOXING                12\n",
       "F1 RACING              6\n",
       "GOLF                  24\n",
       "MMA                    1\n",
       "MOTORCYCLE GP          3\n",
       "NASCAR                 1\n",
       "SOCCER                31\n",
       "TENNIS                14"
      ]
     },
     "execution_count": 27,
     "metadata": {},
     "output_type": "execute_result"
    }
   ],
   "source": [
    "Sports2005L = df7[(df7.Year != 2005)&(df7.Year != 2004)&(df7.Year != 2003)&(df7.Year != 2002)&(df7.Year != 2001)&(df7.Year != 2000)&(df7.Year != 1999)&(df7.Year != 1998)&(df7.Year != 1997)&(df7.Year != 1996)&(df7.Year != 1995)&(df7.Year != 1994)&(df7.Year != 1993)&(df7.Year != 1992)&(df7.Year != 1991)&(df7.Year != 1990)]\n",
    "Sports2005H = Sports2005L.groupby('Sport').count().drop(columns=['S.no', 'Name','Previous year rank','Current rank','Year','Earnings ($ million)',\"Nationality\", \"rank_one\"])\n",
    "Sports2005H"
   ]
  },
  {
   "cell_type": "markdown",
   "id": "997a0fb7-8659-4dcd-a603-06936c5a5952",
   "metadata": {},
   "source": [
    "Analysis : Many sports have become more or less prevalent since the 1990s. For example, Both American Football and Soccer have increased their frequency on the top 10 list by 7.5x and 15.5x respectively showcasing a huge increase in the valuation of top players in those sports. However, sports such as Auto Racing and Boxing have lost their fame back then. Auto Racing and Boxing have decreased their frequency on the top 10 list by 17x and 2.9x respectively suggesting a decrease in people's valuation of the top athletes in these competitions. "
   ]
  },
  {
   "cell_type": "code",
   "execution_count": null,
   "id": "33ec8d3a-5279-4505-a075-d187987c0b4e",
   "metadata": {},
   "outputs": [],
   "source": []
  }
 ],
 "metadata": {
  "kernelspec": {
   "display_name": "Python 3 (ipykernel)",
   "language": "python",
   "name": "python3"
  },
  "language_info": {
   "codemirror_mode": {
    "name": "ipython",
    "version": 3
   },
   "file_extension": ".py",
   "mimetype": "text/x-python",
   "name": "python",
   "nbconvert_exporter": "python",
   "pygments_lexer": "ipython3",
   "version": "3.9.12"
  }
 },
 "nbformat": 4,
 "nbformat_minor": 5
}
